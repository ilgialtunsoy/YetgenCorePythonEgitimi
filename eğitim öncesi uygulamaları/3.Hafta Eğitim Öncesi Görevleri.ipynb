{
  "cells": [
    {
      "cell_type": "markdown",
      "metadata": {
        "id": "tsD4YVAe_Te2"
      },
      "source": [
        "# Problem 1\n",
        "Bir sayının 7'ye bölünebilir olup olmadığını kontrol etmek \n",
        "için bir program yazın.\n",
        "\n",
        "İpucu: Mod operatörünü (%) kullanabilirsiniz."
      ]
    },
    {
      "cell_type": "code",
      "execution_count": 33,
      "metadata": {
        "id": "NGjvNwKx_Te7"
      },
      "outputs": [
        {
          "name": "stdout",
          "output_type": "stream",
          "text": [
            "Sayı 7'ye bölünemiyor.\n"
          ]
        }
      ],
      "source": [
        "# 1.Problemin Çözümünü Buraya Yazınız\n",
        "sayi = int(input(\"Bir sayı giriniz : \"))\n",
        "if sayi % 7 == 0 :\n",
        "    print(\"Sayı 7'ye bölünüyor.\")\n",
        "else :\n",
        "    print(\"Sayı 7'ye bölünemiyor.\")"
      ]
    },
    {
      "cell_type": "markdown",
      "metadata": {
        "id": "Kg3qiBAI_Te8"
      },
      "source": [
        "# Problem 2\n",
        "Kullanıcıdan vize ve final notu isteyin. Girilen vize notunun %40’ı ve \n",
        "girilen finalnotunun ise %60’ı alınarak yıl sonu not ortalaması hesaplanacaktır. \n",
        "\n",
        "Bu not ortalaması eğer 85 ve üzeri ise AA, \n",
        "\n",
        "75 ve 85 arasında ise BA, \n",
        "\n",
        "70 ve 75 arasında ise BB, \n",
        "\n",
        "65 ve 70 arasında ise CB,\n",
        "\n",
        "60 ve 65 arasında ise CC,\n",
        "\n",
        "55 ve 60 arasında ise DC,\n",
        "\n",
        "50 ve 55 arasında ise DD olarak hesaplanacaktır. \n",
        "\n",
        "Bu öğrencinin yıl sonu toplam notu 50’nin altında ise FF ile dersten kalacaktır. \n",
        "\n",
        "Ayrıca öğrencinin final notu 50’nin altında ise direkt FF ile kalacaktır."
      ]
    },
    {
      "cell_type": "code",
      "execution_count": 19,
      "metadata": {
        "id": "MXTtCxI1_Te8"
      },
      "outputs": [
        {
          "name": "stdout",
          "output_type": "stream",
          "text": [
            "FF\n",
            "FF\n"
          ]
        }
      ],
      "source": [
        "# 2.Problemin Çözümünü Buraya Yazınız\n",
        "final_notu = int(input(\"Öğrencinin final notunu giriniz : \"))\n",
        "vize_notu = int(input(\"Öğrencinin vize notunu giriniz : \"))\n",
        "not_ortalaması = (int(final_notu) * 40/100) + (int(vize_notu) * 60/100)\n",
        "\n",
        "if final_notu < 50 :\n",
        "    print(\"FF\")\n",
        "\n",
        "if not_ortalaması >= 85 :\n",
        "    print(\"AA\")\n",
        "elif 75 < not_ortalaması < 85 :\n",
        "      print(\"BA\")\n",
        "elif 70 < not_ortalaması < 75 :\n",
        "      print(\"BB\")\n",
        "elif 65 < not_ortalaması < 70 :\n",
        "     print(\"CB\")\n",
        "elif 60 < not_ortalaması < 65 :\n",
        "     print(\"CC\")\n",
        "elif 55 < not_ortalaması <60 :\n",
        "       print(\"DC\")\n",
        "elif 50 < not_ortalaması <55 :\n",
        "     print(\"DD\")\n",
        "elif  not_ortalaması <50 :\n",
        "     print(\"FF\")\n",
        "    "
      ]
    },
    {
      "cell_type": "markdown",
      "metadata": {
        "id": "tAoRYCTC_Te8"
      },
      "source": [
        "# Problem 3\n",
        "İki YetGenli Zirve'de karşılaşıyorlar. Birbirlerini tanımak için sorular soruyorlar. Birbirlerine yaşlarını soruyorlar. Akıllarına bir Python programı yazıp, yaşlarını ve isimlerini giriyorlar. Büyük olanın yaşını ekrana yazdıran programı yazıyorlar. Sende bu iki YetGenli'ye destek olmak ister misin?\n",
        "\n",
        "```\n",
        "Birinci YetGenlinin ismi: Ahmet\n",
        "Birinci YetGenlinin yaşı : 20\n",
        "İkinci YetGenlinin ismi: Mehmet\n",
        "İkinci YetGenlinin yaşı : 25\n",
        "Mehmet'in yaşı daha büyük ve yaşı 25'tir.\n",
        "```"
      ]
    },
    {
      "cell_type": "code",
      "execution_count": 32,
      "metadata": {
        "id": "bPjE8W0i_Te8"
      },
      "outputs": [
        {
          "name": "stdout",
          "output_type": "stream",
          "text": [
            "ali'in yaşı daha büyük ve yaşı 49 'tir.\n"
          ]
        }
      ],
      "source": [
        "# 3.Problemin Çözümünü Buraya Yazınız\n",
        "birinci_isim= input(\"Birinci YetGenlinin ismi :\")\n",
        "birinci_yas = int(input(\"Birinci YetGenlinin yaşı : \"))\n",
        "ikinci_isim = input(\"İkinci YetGenlinin ismi : \")\n",
        "ikinci_yas= int(input(\"İkinci YetGenlinin yaşı : \"))\n",
        "\n",
        "if birinci_yas < ikinci_yas :\n",
        "    print( \"{}'in yaşı daha büyük ve yaşı {} 'tir.\".format(ikinci_isim,ikinci_yas))\n",
        "elif ikinci_yas > birinci_yas :\n",
        "    print( \"{}'in yaşı daha büyük ve yaşı {} 'tir.\".format(birinci_isim,birinci_yas))\n"
      ]
    },
    {
      "cell_type": "markdown",
      "metadata": {
        "id": "zBVv8Tyg_Te9"
      },
      "source": [
        "# Problem 4\n",
        "Pandemi döneminde AVM'lerde ateş ölçümü yapılıyor. AVM'ye giren kişinin ateş ölçümü 37.5 derecenin altında ise girişe izin veriliyor. 37.5 derecenin üstünde ise girişe izin verilmiyor. AVM'ye girişe izin verilip verilmediğini ekrana yazdıran bir program yazın.\n",
        "\n",
        "Program sonunda şöyle bir çıktı elde etmelisiniz:\n",
        "\n",
        "```\n",
        "Ateşiniz 37.5 derece. AVM'ye girebilirsin! Maske takmayı unutma!\n",
        "Ateşiniz 37.6 derece. AVM'ye giremezsin! Hemen evine dön!\n",
        "```"
      ]
    },
    {
      "cell_type": "code",
      "execution_count": 35,
      "metadata": {
        "id": "TSAXs8et_Te9"
      },
      "outputs": [
        {
          "name": "stdout",
          "output_type": "stream",
          "text": [
            "Ateşiniz 38.0 derece.AVM'ye giremezsin! Hemen evine dön!\n"
          ]
        }
      ],
      "source": [
        "# 4.Problemin Çözümünü Buraya Yazınız\n",
        "ates = float(input(\"Ateşiniz : \"))\n",
        "if ates <= 37.5 :\n",
        "    print(\"Ateşiniz {} derece.AVM'ye girebilirsin! Maske takmayı unutma!\".format(ates) )\n",
        "elif ates > 37.5 :\n",
        "    print(\"Ateşiniz {} derece.AVM'ye giremezsin! Hemen evine dön!\".format(ates))"
      ]
    },
    {
      "cell_type": "markdown",
      "metadata": {
        "id": "6AEkZrDt_Te9"
      },
      "source": [
        "# Problem 5\n",
        "YetGen bir spor kulübüyle sponsorluk anlaşması yapıyor. Kulüp, sponsorluk anlaşmasına göre her YetGen liderinin beden kitle indeksini hesaplamak istiyor. Spor kulübü, beden kitle indeksini hesaplamak için YetGen Jump Python liderlerinden Berkcan ve Ahmet'i arıyor. Berkcan ve Ahmet, kulübe yardımcı olmak için bir Python programı yazıyorlar. Sende bu iki YetGen liderine destek olmak ister misin?\n",
        "\n",
        "Kullanıcıdan alınan boy ve kilo değerlerine göre beden kitle indeksini hesaplayın ve şu kurallara göre ekrana şu yazıları yazdırın.\n",
        "\n",
        "\n",
        "Beden Kitle İndeksi, kişinin ağırlığının (kg olarak) boyunun karesine (m olarak) bölünmesiyle hesaplanır.\n",
        "\n",
        "\n",
        "```\n",
        " BKİ 18.5'un altındaysa -------> Zayıf\n",
        "\n",
        " BKİ 18.5 ile 25 arasındaysa ------> Normal\n",
        "\n",
        " BKİ 25 ile 30 arasındaysa --------> Fazla Kilolu\n",
        "\n",
        " BKİ 30'un üstündeyse -------------> Obez\n",
        "```\n",
        "\n"
      ]
    },
    {
      "cell_type": "code",
      "execution_count": 43,
      "metadata": {
        "id": "t-XPI_u0_Te-"
      },
      "outputs": [],
      "source": [
        "# 5.Problemin Çözümünü Buraya Yazınız\n",
        "boy= float(input(\"Boyunuzu m olarak giriniz: \"))\n",
        "kütle = float(input(\"Kilonuzu kg olarak giriniz :\"))\n",
        "beden_kitle_indeksi = float(kütle / (boy **2))\n",
        "\n",
        "if beden_kitle_indeksi < 18.5:\n",
        "        print(\"Zayıf\")\n",
        "elif 18.5 < beden_kitle_indeksi<25:\n",
        "        print(\"Normal\")\n",
        "elif 25<beden_kitle_indeksi<30:\n",
        "        print(\"Fazla Kilolu\")\n",
        "elif beden_kitle_indeksi>30:\n",
        "        print(\"Obez\")\n"
      ]
    },
    {
      "cell_type": "markdown",
      "metadata": {
        "id": "oFsvQyaO_Te-"
      },
      "source": [
        "# Problem 6\n",
        "Kullanıcıdan isim, yaş ve eğitim bilgilerini isteyip ehliyet alabilme  durumunu kontrol ediniz. \n",
        "\n",
        "Ehliyet alma koşulu en az 18 yaşında ve eğitim durumu lise ya da üniversite olmalıdır. "
      ]
    },
    {
      "cell_type": "code",
      "execution_count": 10,
      "metadata": {
        "id": "Tu2mcgco_Te-"
      },
      "outputs": [
        {
          "name": "stdout",
          "output_type": "stream",
          "text": [
            "Ehliyet alabilirsiniz\n"
          ]
        }
      ],
      "source": [
        "# 6.Problemin Çözümünü Buraya Yazınız\n",
        "isim = input(\"İsim giriniz :\")\n",
        "yas= int(input(\"Yas giriniz : \"))\n",
        "egitim = input(\"Eğitim bilgilerinizi giriniz : \")\n",
        "if yas >= 18 and egitim == \"lise\":\n",
        "    print(\"Ehliyet alabilirsiniz\")\n",
        "elif yas >= 18 and egitim == \"üniversite\":\n",
        "    print(\"Ehliyet alabilirsiniz\")\n",
        "else :\n",
        "    print(\"Ehliyet alamazsınız.\")"
      ]
    },
    {
      "cell_type": "markdown",
      "metadata": {
        "id": "eUkxVSAE_Te_"
      },
      "source": [
        "# Problem 7\n",
        "Bir yılın artık yıl olup olmadığını kontrol etmek için bir program yazın. \n",
        "Artık yıl kuralı:\n",
        "\n",
        "a) Eğer yılın son iki basamağı (00) ile bitmiyor ve yalnızca 4'e tam bölünüyorsa artık yıldır. Ya da, \n",
        "\n",
        "b) Eğer yıl 400'e tam bölünüyorsa artık yıldır.\n",
        "\n",
        "**Örneğin**\n",
        "```\n",
        "2017 artık yıl değildir.\n",
        "1900 artık yıl değildir\n",
        "2012 artık yıldır.\n",
        "2000 artık yıldır.\n",
        "```"
      ]
    },
    {
      "cell_type": "code",
      "execution_count": 16,
      "metadata": {
        "id": "4uWh8qUL_Te_"
      },
      "outputs": [
        {
          "name": "stdout",
          "output_type": "stream",
          "text": [
            "2000 artık yıldır.\n"
          ]
        }
      ],
      "source": [
        "# 7.Problemin Çözümünü Buraya Yazınız\n",
        "yıl = int(input(\"Yıl giriniz: \"))\n",
        "if yıl % 100 != 0 and yıl % 4 ==0 :\n",
        "    print(\" {} artık yıldır.\".format(yıl))\n",
        "elif yıl % 400 == 0 :\n",
        "    print(\"{} artık yıldır.\".format(yıl))\n",
        "else :\n",
        "    print(\"{} artık yıl değildir.\".format(yıl))\n"
      ]
    }
  ],
  "metadata": {
    "colab": {
      "provenance": []
    },
    "kernelspec": {
      "display_name": "Python 3",
      "language": "python",
      "name": "python3"
    },
    "language_info": {
      "codemirror_mode": {
        "name": "ipython",
        "version": 3
      },
      "file_extension": ".py",
      "mimetype": "text/x-python",
      "name": "python",
      "nbconvert_exporter": "python",
      "pygments_lexer": "ipython3",
      "version": "3.9.6"
    },
    "orig_nbformat": 4,
    "vscode": {
      "interpreter": {
        "hash": "31f2aee4e71d21fbe5cf8b01ff0e069b9275f58929596ceb00d14d90e3e16cd6"
      }
    }
  },
  "nbformat": 4,
  "nbformat_minor": 0
}
