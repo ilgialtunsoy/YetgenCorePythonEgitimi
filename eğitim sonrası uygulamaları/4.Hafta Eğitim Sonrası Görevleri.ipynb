{
 "cells": [
  {
   "cell_type": "markdown",
   "metadata": {},
   "source": [
    "# Problem 1\n",
    "`ogrenciler` adında bir sözlük oluşturunuz. Kullanıcıdan döngü yardımıyla 3 öğrenci için veri girmesini isteyerek öğrencilerin sırasıyla okul numarası, isim, soy isim, telefon numarası ve doğum tarihi bilgilerini alınız. Aldığınız öğrenci bilgilerini yine aynı döngü yardımıyla `ogrenciler` adındaki sözlükte saklayınız. Daha sonra öğrenci bilgilerinin bulunduğu sözlük yapısını ekrana bastırınız.\n",
    "\n"
   ]
  },
  {
   "cell_type": "code",
   "execution_count": null,
   "metadata": {},
   "outputs": [],
   "source": [
    "# 1.Problemin Çözümünü Buraya Yazınız\n",
    "ogrenciler ={}\n",
    "\n",
    "for i in range(3):\n",
    "    numara = input(\"Okul numarını gir: \")\n",
    "    isim = input(\"İsmini gir: \")\n",
    "    soyisim = input(\"Soyismini gir: \")\n",
    "    telefon = input(\"Telefon numaranı gir: \")\n",
    "    dogum = input(\"Doğum tarihini gir: \")\n",
    "\n",
    "ogrenciler[numara] = {\n",
    "        \"isim\": isim,\n",
    "        \"soyisim\": soyisim,\n",
    "        \"telefon\": telefon,\n",
    "        \"dogum\": dogum,\n",
    "    }\n",
    "\n",
    "print(ogrenciler)\n"
   ]
  },
  {
   "cell_type": "markdown",
   "metadata": {},
   "source": [
    "# Problem 2\n",
    "\n",
    "### a - Biraz ısınarak başlayalım!\n",
    "\n",
    "```\n",
    "numbers = [5,10,10,15,15,15,20,20,20,20]\n",
    "```\n",
    "\n",
    "Yukarıda `numbers` adında 10 elemanlı bir liste verilmiştir. Bu listenin her elemanını kontrol eden ve tekrar eden elemanları bir kez olacak şekilde başka bir listeye kopyalayan bir program yazınız. Son olarak oluşturduğunuz listeyi ekrana bastırınız.\n",
    "\n",
    "\n",
    "\n",
    "\n",
    "```\n",
    ">Output\n",
    "[5, 10, 15, 20]\n",
    "```\n"
   ]
  },
  {
   "cell_type": "code",
   "execution_count": null,
   "metadata": {},
   "outputs": [],
   "source": [
    "# 2.Problemin a Şıkkının Çözümünü Buraya Yazınız\n",
    "numbers = [5,10,10,15,15,15,20,20,20,20]\n",
    "tekrar_eden =[]\n",
    "for number in numbers:\n",
    "    if number not in tekrar_eden:\n",
    "        tekrar_eden.append(number)\n",
    "print(tekrar_eden)"
   ]
  },
  {
   "cell_type": "markdown",
   "metadata": {},
   "source": [
    "### 🌶️ b) Hadi işi biraz daha zorlaştıralım! \n",
    "\n",
    "\n",
    "Şimdiyse senden `numbers` isimli listedeki tekrar eden elemanları `repeatNumbers` adındaki listeye; tekrar etmeyen elemanları `uniqueNumbers`adındaki listeye kopyalayan yazmanı ve listeleri ekrana bastırmanı bekliyoruz\n",
    "\n",
    "```\n",
    ">Output\n",
    "Tekrar Eden Elemanlar: [10, 10, 15, 15, 15, 20, 20, 20, 20]\n",
    "Tekrar Etmeyen Elemanlar: [5]\n",
    "```"
   ]
  },
  {
   "cell_type": "code",
   "execution_count": null,
   "metadata": {},
   "outputs": [],
   "source": [
    "# 2.Problemin b Şıkkının Çözümünü Buraya Yazınız\n",
    "numbers = [5,10,10,15,15,15,20,20,20,20]\n",
    "\n",
    "repeatNumbers =[]\n",
    "uniqueNumbers =[]\n",
    "\n",
    "for number in numbers:\n",
    "    if number not in uniqueNumbers:\n",
    "        uniqueNumbers.append(number)\n",
    "    else:\n",
    "        if number not in repeatNumbers:\n",
    "            uniqueNumbers.append(number)\n",
    "\n",
    "print(repeatNumbers)\n",
    "print(uniqueNumbers)\n",
    "\n"
   ]
  },
  {
   "cell_type": "markdown",
   "metadata": {},
   "source": [
    "# Problem 3\n",
    "sn1 = {1,2,3,4,5}\n",
    "\n",
    "sn2 = {4,5,6,7,8}\n",
    "\n",
    " Verilen 2 adet küme için kesişimlerini, farklarını ve birleşimlerini bulunuz. "
   ]
  },
  {
   "cell_type": "code",
   "execution_count": null,
   "metadata": {},
   "outputs": [],
   "source": [
    "# 3.Problemin Çözümünü Buraya Yazınız\n",
    "\n",
    "sn1 = {1,2,3,4,5}\n",
    "\n",
    "sn2 = {4,5,6,7,8}\n",
    "\n",
    "kesisim = sn1.intersection(sn2)\n",
    "print(kesisim)  \n",
    "\n",
    "sn1_farkları_sn2 = sn1.difference(sn2)\n",
    "sn2_farkları_sn1 = sn2.difference(sn1)\n",
    "print(sn1_farkları_sn2)  \n",
    "print(sn2_farkları_sn1)  \n",
    "\n",
    "birlesim = sn1.union(sn2)\n",
    "print(birlesim)  \n",
    "\n",
    "\n"
   ]
  },
  {
   "cell_type": "markdown",
   "metadata": {},
   "source": [
    "# Problem 4\n",
    "\n",
    "Buradaki işlemlerimizin tamamı stringler içindir. Aşağıda verilecek olan metodlar için kendinizin örnek yaratması gerekmektedir. \n",
    "\n",
    "Örneğin `upper` için `string` değişkeni oluştururken` k = \"BAC\"` şeklinde oluşturmayınız. Bunun yerine k değişkenini `k = \"bac`\" şeklinde oluşturmanız `upper` metodundaki değişimi görebilmeniz için daha iyi olacaktır.\n",
    "\n",
    "Bütün metodlardaki değişimin gözle görülür şekilde değişimi beklenmektedir.\n",
    "\n",
    "\n",
    "1- capitalize(), lower(), upper(), swapcase(), title(), replace()\n",
    "\n",
    "2- endswith(), startswith(), find(), index(), count()\n",
    "\n",
    "3- split(), strip(), join(), islower(), isalpha(), isdigit()\n",
    "\n",
    "\n",
    "Yukarıdaki `string` metodlarındaki değişimleri görebildiğimiz bir program yazınız.\n"
   ]
  },
  {
   "cell_type": "code",
   "execution_count": null,
   "metadata": {},
   "outputs": [],
   "source": [
    "# 4.Problemin Çözümünü Buraya Yazınız\n",
    "\n",
    "a = \"Merhaba nasılsın\"\n",
    "\n",
    "print(\"capitalize():\", a.capitalize())\n",
    "print(\"lower():\", a.lower())\n",
    "print(\"upper():\", a.upper())\n",
    "print(\"swapcase():\", a.swapcase())\n",
    "print(\"title():\", a.title())\n",
    "print(\"replace():\", a.replace(\"Merhaba\", \"Selam\"))\n",
    "\n",
    "print(\"endswith():\", a.endswith(\"!\"))\n",
    "print(\"startswith():\", a.startswith(\"merhaba\"))\n",
    "print(\"find():\", a.find(\"nasılsın\"))\n",
    "print(\"index():\", a.index(\"nasılsın\"))\n",
    "print(\"count():\", a.count(\"nasılsın\"))\n",
    "\n",
    "print(\"split():\", a.split())\n",
    "print(\"strip():\", a.strip(\"!\"))\n",
    "print(\"join():\", \"-\".join(a.split()))\n",
    "print(\"islower():\", a.islower())\n",
    "print(\"isalpha():\", \"abc\".isalpha())\n",
    "print(\"isdigit():\", \"123\".isdigit())\n"
   ]
  }
 ],
 "metadata": {
  "kernelspec": {
   "display_name": "Python 3",
   "language": "python",
   "name": "python3"
  },
  "language_info": {
   "codemirror_mode": {
    "name": "ipython",
    "version": 3
   },
   "file_extension": ".py",
   "mimetype": "text/x-python",
   "name": "python",
   "nbconvert_exporter": "python",
   "pygments_lexer": "ipython3",
   "version": "3.9.6"
  },
  "orig_nbformat": 4,
  "vscode": {
   "interpreter": {
    "hash": "31f2aee4e71d21fbe5cf8b01ff0e069b9275f58929596ceb00d14d90e3e16cd6"
   }
  }
 },
 "nbformat": 4,
 "nbformat_minor": 2
}
